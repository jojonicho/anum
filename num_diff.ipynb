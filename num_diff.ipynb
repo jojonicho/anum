{
 "cells": [
  {
   "cell_type": "code",
   "execution_count": 1,
   "metadata": {},
   "outputs": [],
   "source": [
    "import numpy as np"
   ]
  },
  {
   "cell_type": "code",
   "execution_count": 2,
   "metadata": {},
   "outputs": [],
   "source": [
    "def derivative(f,a,method='central',h=0.01):\n",
    "    '''Compute the difference formula for f'(a) with step size h.\n",
    "\n",
    "    Parameters\n",
    "    ----------\n",
    "    f : function\n",
    "        Vectorized function of one variable\n",
    "    a : number\n",
    "        Compute derivative at x = a\n",
    "    method : string\n",
    "        Difference formula: 'forward', 'backward' or 'central'\n",
    "    h : number\n",
    "        Step size in difference formula\n",
    "\n",
    "    Returns\n",
    "    -------\n",
    "    float\n",
    "        Difference formula:\n",
    "            central: f(a+h) - f(a-h))/2h\n",
    "            forward: f(a+h) - f(a))/h\n",
    "            backward: f(a) - f(a-h))/h            \n",
    "    '''\n",
    "    if method == 'central':\n",
    "        return (f(a + h) - f(a - h))/(2*h)\n",
    "    elif method == 'forward':\n",
    "        return (f(a + h) - f(a))/h\n",
    "    elif method == 'backward':\n",
    "        return (f(a) - f(a - h))/h\n",
    "    else:\n",
    "        raise ValueError(\"Method must be 'central', 'forward' or 'backward'.\")"
   ]
  },
  {
   "cell_type": "code",
   "execution_count": 3,
   "metadata": {},
   "outputs": [
    {
     "data": {
      "text/plain": [
       "0.3278982282299081"
      ]
     },
     "execution_count": 3,
     "metadata": {},
     "output_type": "execute_result"
    }
   ],
   "source": [
    "derivative(np.log,3,method='forward',h=1e-1)"
   ]
  },
  {
   "cell_type": "code",
   "execution_count": 4,
   "metadata": {},
   "outputs": [],
   "source": [
    "import scipy.integrate as spi"
   ]
  },
  {
   "cell_type": "code",
   "execution_count": 124,
   "metadata": {},
   "outputs": [],
   "source": [
    "def trapz(f,a,b,N=50):\n",
    "    '''Approximate the integral of f(x) from a to b by the trapezoid rule.\n",
    "\n",
    "    The trapezoid rule approximates the integral \\int_a^b f(x) dx by the sum:\n",
    "    (dx/2) \\sum_{k=1}^N (f(x_k) + f(x_{k-1}))\n",
    "    where x_k = a + k*dx and dx = (b - a)/N.\n",
    "\n",
    "    Parameters\n",
    "    ----------\n",
    "    f : function\n",
    "        Vectorized function of a single variable\n",
    "    a , b : numbers\n",
    "        Interval of integration [a,b]\n",
    "    N : integer\n",
    "        Number of subintervals of [a,b]\n",
    "\n",
    "    Returns\n",
    "    -------\n",
    "    float\n",
    "        Approximation of the integral of f(x) from a to b using the\n",
    "        trapezoid rule with N subintervals of equal length.\n",
    "\n",
    "    Examples\n",
    "    --------\n",
    "    >>> trapz(np.sin,0,np.pi/2,1000)\n",
    "    0.9999997943832332\n",
    "    '''\n",
    "    x = np.linspace(a,b,N+1) # N+1 points make N subintervals\n",
    "    y = f(x)\n",
    "    y_right = y[1:] # right endpoints\n",
    "    y_left = y[:-1] # left endpoints\n",
    "    dx = (b - a)/N\n",
    "    T = (dx/2) * np.sum(y_right + y_left)\n",
    "    return T\n",
    "\n",
    "def simps(f,a,b,N):\n",
    "    if N % 2 == 1:\n",
    "        raise ValueError(\"N must be an even integer.\")\n",
    "    dx = (b-a)/N\n",
    "    x = np.linspace(a,b,N+1)\n",
    "    print(x)\n",
    "    y = f(x)\n",
    "    print(y)\n",
    "    print(y[0:-1:2])\n",
    "    print(4*y[1::2])\n",
    "    print(y[2::2])\n",
    "    print(np.sum(y[0:-1:2] + 4*y[1::2] + y[2::2]))\n",
    "    S = dx/3 * np.sum(y[0:-1:2] + 4*y[1::2] + y[2::2])\n",
    "    return S\n",
    "\n",
    "\n",
    "def asimps(f,a,b, e):\n",
    "    h = (b - a);\n",
    "    \n",
    "    \n",
    "    S = h/6 * (f(a) + 4*f(a + h/2) + f(b))\n",
    "    S_bar = h/12 * (f(a) + 4*f(a+ h/4) + 2*f(a+h/2) + 4*f(a + 3*h/4) + f(b))\n",
    "    E = (S_bar - S) / 15\n",
    "    print(f\"S = {S}\")\n",
    "    print(f\"S_bar = {S_bar}\")\n",
    "    mid = (a+b/2)\n",
    "    if E < h * e:\n",
    "        print(f\"E[{a}, {b}] = {E} < {h*e} -> tambahkan S_bar = {S_bar}\")\n",
    "        print()\n",
    "        return S_bar\n",
    "    print(f\"E[{a}, {b}] = {E} >= {h*e}\")\n",
    "    print()\n",
    "    return asimps(f, a, mid, e) + asimps(f, mid, b, e);\n",
    "#     return [S, S_bar, E]"
   ]
  },
  {
   "cell_type": "code",
   "execution_count": 87,
   "metadata": {},
   "outputs": [
    {
     "data": {
      "text/plain": [
       "62.400000000000006"
      ]
     },
     "execution_count": 87,
     "metadata": {},
     "output_type": "execute_result"
    }
   ],
   "source": [
    "def f(x):\n",
    "    return 0.2 + 25*x + 3*x*x\n",
    "trapz(f, 0, 2, 1)"
   ]
  },
  {
   "cell_type": "code",
   "execution_count": 88,
   "metadata": {},
   "outputs": [
    {
     "name": "stdout",
     "output_type": "stream",
     "text": [
      "S = 0.2255922317655456\n",
      "S_bar = 0.23211708693095084\n",
      "E[0, 0.5] >= 0.00025\n",
      "\n",
      "S = 0.07975889843221229\n",
      "S_bar = 0.08206578309907134\n",
      "E[0, 0.25] >= 0.000125\n",
      "\n",
      "S = 0.0281990289706932\n",
      "S_bar = 0.029014635866368856\n",
      "E[0, 0.125] < 6.25e-05 -> tambahkan S_bar = 0.029014635866368856\n",
      "\n",
      "S = 0.053866754128378144\n",
      "S_bar = 0.05387027414425909\n",
      "E[0.125, 0.25] < 6.25e-05 -> tambahkan S_bar = 0.05387027414425909\n",
      "\n",
      "S = 0.15235818849873856\n",
      "S_bar = 0.15236814460713577\n",
      "E[0.25, 0.5] < 0.000125 -> tambahkan S_bar = 0.15236814460713577\n",
      "\n"
     ]
    },
    {
     "data": {
      "text/plain": [
       "0.23525305461776372"
      ]
     },
     "execution_count": 88,
     "metadata": {},
     "output_type": "execute_result"
    }
   ],
   "source": [
    "def f(x):\n",
    "    return np.sqrt(x)\n",
    "asimps(f, 0, 0.5, 0.0005)"
   ]
  },
  {
   "cell_type": "code",
   "execution_count": 109,
   "metadata": {},
   "outputs": [
    {
     "name": "stdout",
     "output_type": "stream",
     "text": [
      "[1. 2. 3. 4. 5.]\n",
      "[7.38905610e+00 5.45981500e+01 4.03428793e+02 2.98095799e+03\n",
      " 2.20264658e+04]\n",
      "[  7.3890561  403.42879349]\n",
      "[  218.39260013 11923.83194817]\n",
      "[  403.42879349 22026.46579481]\n",
      "34982.9369861906\n"
     ]
    },
    {
     "data": {
      "text/plain": [
       "11660.978995396867"
      ]
     },
     "execution_count": 109,
     "metadata": {},
     "output_type": "execute_result"
    }
   ],
   "source": [
    "def f(x):\n",
    "    return np.exp(2*x)\n",
    "simps(f, 1, 5, 4)"
   ]
  },
  {
   "cell_type": "code",
   "execution_count": 125,
   "metadata": {},
   "outputs": [
    {
     "name": "stdout",
     "output_type": "stream",
     "text": [
      "S = 0.6958003506560664\n",
      "S_bar = 0.7284570281185188\n",
      "E[0, 1] = 0.0021771118308301584 >= 0.001\n",
      "\n",
      "S = 0.2761285521478205\n",
      "S_bar = 0.28908836318724124\n",
      "E[0, 0.5] = 0.0008639874026280488 >= 0.0005\n",
      "\n",
      "S = 0.10958168853947653\n",
      "S_bar = 0.11472479295879791\n",
      "E[0, 0.25] = 0.0003428736279547586 >= 0.00025\n",
      "\n",
      "S = 0.04348752191600415\n",
      "S_bar = 0.04552856425740742\n",
      "E[0, 0.125] = 0.0001360694894268849 >= 0.000125\n",
      "\n",
      "S = 0.01725803450923878\n",
      "S_bar = 0.018068022699202577\n",
      "E[0, 0.0625] = 5.399921266425305e-05 < 6.25e-05 -> tambahkan S_bar = 0.018068022699202577\n",
      "\n",
      "S = 0.02827052974816864\n",
      "S_bar = 0.028272487962797944\n",
      "E[0.0625, 0.125] = 1.3054764195358226e-07 < 6.25e-05 -> tambahkan S_bar = 0.028272487962797944\n",
      "\n",
      "S = 0.07123727104279376\n",
      "S_bar = 0.07124220543445711\n",
      "E[0.125, 0.25] = 3.2895944422350886e-07 < 0.000125 -> tambahkan S_bar = 0.07124220543445711\n",
      "\n",
      "S = 0.1795066746477647\n",
      "S_bar = 0.17951910853561487\n",
      "E[0.25, 0.5] = 8.289258566773761e-07 < 0.00025 -> tambahkan S_bar = 0.17951910853561487\n",
      "\n",
      "S = 0.45232847597069825\n",
      "S_bar = 0.4523598074047671\n",
      "E[0.5, 1] = 2.088762271257316e-06 < 0.0005 -> tambahkan S_bar = 0.4523598074047671\n",
      "\n"
     ]
    },
    {
     "data": {
      "text/plain": [
       "0.7494616320368397"
      ]
     },
     "execution_count": 125,
     "metadata": {},
     "output_type": "execute_result"
    }
   ],
   "source": [
    "def f(x):\n",
    "    return x ** (1/3)\n",
    "asimps(f, 0, 1, 0.001)"
   ]
  },
  {
   "cell_type": "code",
   "execution_count": 120,
   "metadata": {},
   "outputs": [
    {
     "data": {
      "text/plain": [
       "352423.4527169075"
      ]
     },
     "execution_count": 120,
     "metadata": {},
     "output_type": "execute_result"
    }
   ],
   "source": [
    "max([16 *np.exp(2*i) for i in range (1, 6)])"
   ]
  },
  {
   "cell_type": "code",
   "execution_count": 121,
   "metadata": {},
   "outputs": [
    {
     "data": {
      "text/plain": [
       "7831.632282597944"
      ]
     },
     "execution_count": 121,
     "metadata": {},
     "output_type": "execute_result"
    }
   ],
   "source": [
    "np.exp(10) * 16 * 4/ 180"
   ]
  },
  {
   "cell_type": "code",
   "execution_count": 116,
   "metadata": {},
   "outputs": [
    {
     "data": {
      "text/plain": [
       "256"
      ]
     },
     "execution_count": 116,
     "metadata": {},
     "output_type": "execute_result"
    }
   ],
   "source": [
    "4**4"
   ]
  },
  {
   "cell_type": "code",
   "execution_count": 126,
   "metadata": {},
   "outputs": [
    {
     "data": {
      "text/plain": [
       "0.8333333333333334"
      ]
     },
     "execution_count": 126,
     "metadata": {},
     "output_type": "execute_result"
    }
   ],
   "source": [
    "1.25/1.5"
   ]
  },
  {
   "cell_type": "code",
   "execution_count": 128,
   "metadata": {},
   "outputs": [
    {
     "data": {
      "text/plain": [
       "0.8888666666666666"
      ]
     },
     "execution_count": 128,
     "metadata": {},
     "output_type": "execute_result"
    }
   ],
   "source": [
    "1.3333/1.5"
   ]
  },
  {
   "cell_type": "code",
   "execution_count": null,
   "metadata": {},
   "outputs": [],
   "source": []
  },
  {
   "cell_type": "code",
   "execution_count": 129,
   "metadata": {},
   "outputs": [
    {
     "data": {
      "text/plain": [
       "0.125"
      ]
     },
     "execution_count": 129,
     "metadata": {},
     "output_type": "execute_result"
    }
   ],
   "source": [
    "0.5**3"
   ]
  },
  {
   "cell_type": "code",
   "execution_count": 130,
   "metadata": {},
   "outputs": [
    {
     "data": {
      "text/plain": [
       "0.7"
      ]
     },
     "execution_count": 130,
     "metadata": {},
     "output_type": "execute_result"
    }
   ],
   "source": [
    "(1 - 0.25 + 0.125)/1.25"
   ]
  },
  {
   "cell_type": "code",
   "execution_count": 131,
   "metadata": {},
   "outputs": [
    {
     "data": {
      "text/plain": [
       "0.05"
      ]
     },
     "execution_count": 131,
     "metadata": {},
     "output_type": "execute_result"
    }
   ],
   "source": [
    "0.5**2 * 0.2"
   ]
  },
  {
   "cell_type": "code",
   "execution_count": 132,
   "metadata": {},
   "outputs": [
    {
     "data": {
      "text/plain": [
       "0.72"
      ]
     },
     "execution_count": 132,
     "metadata": {},
     "output_type": "execute_result"
    }
   ],
   "source": [
    "0.9 / 1.25"
   ]
  },
  {
   "cell_type": "code",
   "execution_count": 133,
   "metadata": {},
   "outputs": [
    {
     "data": {
      "text/plain": [
       "0.7357588823428847"
      ]
     },
     "execution_count": 133,
     "metadata": {},
     "output_type": "execute_result"
    }
   ],
   "source": [
    "2/np.exp(1)"
   ]
  },
  {
   "cell_type": "code",
   "execution_count": null,
   "metadata": {},
   "outputs": [],
   "source": []
  }
 ],
 "metadata": {
  "kernelspec": {
   "display_name": "Python 3",
   "language": "python",
   "name": "python3"
  },
  "language_info": {
   "codemirror_mode": {
    "name": "ipython",
    "version": 3
   },
   "file_extension": ".py",
   "mimetype": "text/x-python",
   "name": "python",
   "nbconvert_exporter": "python",
   "pygments_lexer": "ipython3",
   "version": "3.8.8"
  }
 },
 "nbformat": 4,
 "nbformat_minor": 4
}
